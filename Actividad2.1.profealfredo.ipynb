{
 "cells": [
  {
   "cell_type": "code",
   "execution_count": 1,
   "metadata": {},
   "outputs": [],
   "source": [
    "import pandas as pd"
   ]
  },
  {
   "cell_type": "code",
   "execution_count": 2,
   "metadata": {},
   "outputs": [],
   "source": [
    "df = pd.read_csv('Tokyo, Japon.csv')"
   ]
  },
  {
   "cell_type": "code",
   "execution_count": 6,
   "metadata": {},
   "outputs": [
    {
     "ename": "NameError",
     "evalue": "name 'host_name' is not defined",
     "output_type": "error",
     "traceback": [
      "\u001b[0;31m---------------------------------------------------------------------------\u001b[0m",
      "\u001b[0;31mNameError\u001b[0m                                 Traceback (most recent call last)",
      "Cell \u001b[0;32mIn[6], line 2\u001b[0m\n\u001b[1;32m      1\u001b[0m hostnames_ \u001b[38;5;241m=\u001b[39m [\u001b[38;5;124m\"\u001b[39m\u001b[38;5;124mYoshimi & Marek\u001b[39m\u001b[38;5;124m\"\u001b[39m, \u001b[38;5;124m\"\u001b[39m\u001b[38;5;124mYukiko\u001b[39m\u001b[38;5;124m\"\u001b[39m,\u001b[38;5;124m\"\u001b[39m\u001b[38;5;124mYume\u001b[39m\u001b[38;5;124m\"\u001b[39m, \u001b[38;5;124m\"\u001b[39m\u001b[38;5;124mKei\u001b[39m\u001b[38;5;124m\"\u001b[39m, \u001b[38;5;124m\"\u001b[39m\u001b[38;5;124mMin & Haru\u001b[39m\u001b[38;5;124m\"\u001b[39m]\n\u001b[0;32m----> 2\u001b[0m primer_filtro \u001b[38;5;241m=\u001b[39m df[df[\u001b[38;5;124m'\u001b[39m\u001b[38;5;124mhost_name\u001b[39m\u001b[38;5;124m'\u001b[39m]\u001b[38;5;241m.\u001b[39misin(\u001b[43mhost_name\u001b[49m)]\n\u001b[1;32m      3\u001b[0m primer_filtro\u001b[38;5;241m.\u001b[39mto_csv([\u001b[38;5;124m'\u001b[39m\u001b[38;5;124mhost_name.csv\u001b[39m\u001b[38;5;124m'\u001b[39m, index \u001b[38;5;241m==\u001b[39m \u001b[38;5;241m0\u001b[39m])\n",
      "\u001b[0;31mNameError\u001b[0m: name 'host_name' is not defined"
     ]
    }
   ],
   "source": [
    "hostnames_ = [\"Yoshimi & Marek\", \"Yukiko\",\"Yume\", \"Kei\", \"Min & Haru\"]\n",
    "primer_filtro = df[df['host_name'].isin(host_name)]\n",
    "primer_filtro.to_csv(['host_name.csv', index == 0])\n"
   ]
  },
  {
   "cell_type": "code",
   "execution_count": 9,
   "metadata": {},
   "outputs": [],
   "source": [
    "df = df.dropna(subset=['host_since'])\n",
    "df['host_since'] = pd.to_datetime(df['host_since'], errors='coerce')\n",
    "df = df.dropna(subset=['host_since'])\n",
    "segundofiltro = df[df['host_since'].dt.year >= 2023]\n",
    "segundofiltro.to_csv('hostsince.csv')"
   ]
  },
  {
   "cell_type": "code",
   "execution_count": 10,
   "metadata": {},
   "outputs": [],
   "source": [
    "tiempo_respuesta = [\"within a few hours\", \"within an hour\", \"within a day\"]\n",
    "tercerfiltro = df[df['host_response_time'].isin(tiempo_respuesta)]\n",
    "tercerfiltro.to_csv('hosttiemporespuesta.csv')"
   ]
  },
  {
   "cell_type": "code",
   "execution_count": 12,
   "metadata": {},
   "outputs": [],
   "source": [
    "cuartofiltro = df.iloc[::350]\n",
    "cuartofiltro.to_csv('multiplos_200.csv')"
   ]
  },
  {
   "cell_type": "code",
   "execution_count": 13,
   "metadata": {},
   "outputs": [],
   "source": [
    "cuartotipos = [\"Entire home/apt\", \"Private room\"]\n",
    "quintofiltro = df[df['room_type'].isin(cuartotipos)]\n",
    "quintofiltro.to_csv('roomtype.csv')"
   ]
  },
  {
   "cell_type": "code",
   "execution_count": 15,
   "metadata": {},
   "outputs": [],
   "source": [
    "sextofiltro = df[df['beds'] <= 2]\n",
    "sextofiltro.to_csv('bedss.csv')"
   ]
  },
  {
   "cell_type": "code",
   "execution_count": 16,
   "metadata": {},
   "outputs": [],
   "source": [
    "septimofiltro = df[df['host_is_superhost'] == 't']\n",
    "septimofiltro.to_csv('superhost.csv')"
   ]
  },
  {
   "cell_type": "code",
   "execution_count": 17,
   "metadata": {},
   "outputs": [],
   "source": [
    "octavofiltro = df.iloc[:, ::2]\n",
    "octavofiltro.to_csv('columnasimpares.csv')"
   ]
  },
  {
   "cell_type": "markdown",
   "metadata": {},
   "source": [
    "#fin actividad parte 1 "
   ]
  }
 ],
 "metadata": {
  "kernelspec": {
   "display_name": "Python 3",
   "language": "python",
   "name": "python3"
  },
  "language_info": {
   "codemirror_mode": {
    "name": "ipython",
    "version": 3
   },
   "file_extension": ".py",
   "mimetype": "text/x-python",
   "name": "python",
   "nbconvert_exporter": "python",
   "pygments_lexer": "ipython3",
   "version": "3.13.2"
  }
 },
 "nbformat": 4,
 "nbformat_minor": 2
}
